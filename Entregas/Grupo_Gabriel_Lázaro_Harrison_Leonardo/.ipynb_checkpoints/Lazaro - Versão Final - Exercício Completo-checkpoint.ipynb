{
 "cells": [
  {
   "cell_type": "code",
   "execution_count": 4,
   "metadata": {
    "scrolled": false
   },
   "outputs": [
    {
     "ename": "ModuleNotFoundError",
     "evalue": "No module named 'folium'",
     "output_type": "error",
     "traceback": [
      "\u001b[0;31m---------------------------------------------------------------------------\u001b[0m",
      "\u001b[0;31mModuleNotFoundError\u001b[0m                       Traceback (most recent call last)",
      "\u001b[0;32m<ipython-input-4-3acd4a88fcad>\u001b[0m in \u001b[0;36m<module>\u001b[0;34m\u001b[0m\n\u001b[1;32m      1\u001b[0m \u001b[0;32mimport\u001b[0m \u001b[0mpandas\u001b[0m \u001b[0;32mas\u001b[0m \u001b[0mpd\u001b[0m\u001b[0;34m\u001b[0m\u001b[0;34m\u001b[0m\u001b[0m\n\u001b[1;32m      2\u001b[0m \u001b[0;32mimport\u001b[0m \u001b[0mnumpy\u001b[0m \u001b[0;32mas\u001b[0m \u001b[0mnp\u001b[0m\u001b[0;34m\u001b[0m\u001b[0;34m\u001b[0m\u001b[0m\n\u001b[0;32m----> 3\u001b[0;31m \u001b[0;32mimport\u001b[0m \u001b[0mfolium\u001b[0m\u001b[0;34m\u001b[0m\u001b[0;34m\u001b[0m\u001b[0m\n\u001b[0m\u001b[1;32m      4\u001b[0m \u001b[0;32mimport\u001b[0m \u001b[0mmath\u001b[0m\u001b[0;34m\u001b[0m\u001b[0;34m\u001b[0m\u001b[0m\n\u001b[1;32m      5\u001b[0m \u001b[0;34m\u001b[0m\u001b[0m\n",
      "\u001b[0;31mModuleNotFoundError\u001b[0m: No module named 'folium'"
     ]
    }
   ],
   "source": [
    "import pandas as pd\n",
    "import numpy as np\n",
    "import folium\n",
    "import math\n",
    "\n",
    "\n",
    "from statistics import mean \n",
    "from IPython.display import Markdown\n",
    "from opencage.geocoder import OpenCageGeocode\n",
    "\n",
    "\n",
    "def special_print(title, content):\n",
    "    display(Markdown(\"### %s:\" % title))\n",
    "    print(content)\n",
    "    return None\n",
    "    \n",
    "    \n",
    "class getBiodiversity():\n",
    "\n",
    "    def __init__(self, url):\n",
    "        self.url = url\n",
    "        try:\n",
    "            self.df_data = pd.read_csv(url, sep=';', header=0, encoding='utf-8')\n",
    "        except Exception as e:\n",
    "            self.df_data = pd.DataFrame()\n",
    "            print(\"Aborting... couldn't read this file: %s\" % url)\n",
    "            print (e.args)\n",
    "        self.data_info = \"File shape: %d rows x %d columns\"% (self.df_data.shape[0], self.df_data.shape[1])\n",
    "        return None\n",
    "    \n",
    "    def getColumns(self):\n",
    "        self.df_columns = list(self.df_data.columns)\n",
    "        return None\n",
    "    \n",
    "    def checkEmpty(self):\n",
    "        self.getColumns()\n",
    "        self.df_dataNAN = pd.DataFrame(np.where((self.df_data == '') | (self.df_data == 'Sem Informações'), 1, 0))\n",
    "        self.df_dataNAN.columns = self.df_columns\n",
    "        self.df_data_missing = 100*self.df_dataNAN.mean()\n",
    "        return None\n",
    "\n",
    "    def getLastFilled(self, columns):\n",
    "        filled_columns = [column for column in columns if (column != \"Sem Informações\")]\n",
    "        return 'NA' if len(filled_columns) == 0 else TAXONOMY_COLUMNS[len(filled_columns)-1]\n",
    "    \n",
    "    def addTaxonomicLevel(self, col_name):\n",
    "        self.df_data[col_name] = self.df_data[TAXONOMY_COLUMNS].apply(lambda x: self.getLastFilled(x), axis=1)\n",
    "        self.df_taxonomy_info =  self.df_data[col_name].value_counts()\n",
    "        return None\n",
    "\n",
    "    def extractTaxonomy(self, columns):\n",
    "        self.df_taxonomy = self.df_data[columns].copy()\n",
    "        return None\n",
    "    \n",
    "    def getTaxonomy(self, col_name='taxonomic_level'):\n",
    "        self.addTaxonomicLevel(col_name)\n",
    "        self.extractTaxonomy(TAXONOMY_COLUMNS+[col_name])\n",
    "        return None\n",
    "    \n",
    "    def filterFields(self, columns, values):\n",
    "        filter = np.logical_and.reduce([self.df_data[columns[i]].isin(values[i]) for i in range(len(columns))])\n",
    "        self.df_filtered = self.df_data[filter].copy()\n",
    "        self.filtered_info = \"File shape: %d rows x %d columns\"% (self.df_filtered.shape[0], self.df_filtered.shape[1])\n",
    "        return None\n",
    "    \n",
    "    def parseFloat(self, info):\n",
    "        value = float(info)\n",
    "        try:\n",
    "            value = float(info)\n",
    "        except:\n",
    "            value = 0.0\n",
    "        return value\n",
    "    \n",
    "    def checkGeoInfo(self, components, reported):\n",
    "        aux = []\n",
    "        unmatched = 0\n",
    "        for elem in [\"country\", \"state\", \"state_code\", \"city\"]:\n",
    "            try:\n",
    "                value = components[elem]\n",
    "            except:\n",
    "                value = \"NA\"\n",
    "            aux.append(value)\n",
    "        unmatched += 1 if reported[0] != aux[0] else 0\n",
    "        unmatched += 1 if not reported[1] in [aux[1], aux[2]] else 0\n",
    "        unmatched += 1 if reported[2] != aux[3] else 0\n",
    "        return unmatched\n",
    "    \n",
    "    def reverseGeocode(self, latlon):\n",
    "        geo = geocoder.reverse_geocode(latlon[0], latlon[1], no_annotations = '1', pretty = '1', language='pt')\n",
    "        comp = geo[0]['components']\n",
    "        info = self.checkGeoInfo(comp, [latlon[2], latlon[3], latlon[4]])\n",
    "        return pd.Series((geo[0]['formatted'], info))\n",
    "    \n",
    "    def setMapZoom(self, coords):\n",
    "        try:\n",
    "            rangelat = math.sqrt(170 / (max(coords[0][:])-min(coords[0][:])))\n",
    "            rangelon = math.sqrt(360 / (max(coords[1][:])-min(coords[1][:])))\n",
    "            zoom = int(min(rangelat, rangelon)) + 1\n",
    "        except:\n",
    "            zoom = 1\n",
    "        return zoom\n",
    "    \n",
    "    def printMap(self):\n",
    "        coords = self.df_location_sample[[\"AdjustedLatitude\", \"AdjustedLongitude\", \"ReversedAddress\", \"Confidence\"]].T.values.tolist()\n",
    "        COLORS = ['green', 'lightgreen', 'orange', 'red']\n",
    "        center = [mean(coords[0][:]), mean(coords[1][:])]\n",
    "        zoom = self.setMapZoom(coords[0:2][:])\n",
    "        my_map = folium.Map(location=center, zoom_start=zoom, tiles=\"OpenStreetMap\")\n",
    "        for i in range(len(self.df_location_sample)):\n",
    "            folium.Marker(location=[coords[0][i], coords[1][i]], popup=coords[2][i], \n",
    "                          icon=folium.Icon(color=COLORS[coords[3][i]], icon='map-marker')).add_to(my_map) \n",
    "        self.observations_map = my_map\n",
    "        return None\n",
    "        \n",
    "    def checkCoordinates(self, size):\n",
    "        self.df_filtered[\"AdjustedLatitude\"] = self.df_data[\"Latitude\"].apply(lambda x: self.parseFloat(x))\n",
    "        self.df_filtered[\"AdjustedLongitude\"] = self.df_data[\"Longitude\"].apply(lambda x: self.parseFloat(x))\n",
    "        if len(self.df_filtered) < size:\n",
    "            print(\"Not enough data to show. Please check your filter opetions\")\n",
    "            self.df_location_sample = pd.DataFrame()\n",
    "            self.observations_map = None\n",
    "            return None\n",
    "        self.df_location_sample = self.df_filtered.sample(n=size).copy()\n",
    "        self.df_location_sample[['ReversedAddress','Confidence']] = self.df_location_sample[['AdjustedLatitude','AdjustedLongitude']+LOCATION_COORDINATES].apply(self.reverseGeocode, axis=1)\n",
    "        self.printMap()\n",
    "        return None\n",
    "\n",
    "\n",
    "\n",
    "####################################################################################\n",
    "#\n",
    "# Initializing all data\n",
    "\n",
    "#url = \"portalbio_export_16-10-2019-14-39-54.csv\"\n",
    "#url = \"PortalBio 00002.csv\"\n",
    "url = \"PortalBio 00043.csv\"\n",
    "#url = \"PortalBio 00555.csv\"\n",
    "#url = \"PortalBio 03912.csv\"\n",
    "#url = \"PortalBio 58411.csv\"\n",
    "TAXONOMY_COLUMNS = ['Filo', 'Classe', 'Ordem', 'Familia', 'Genero', 'Especie']\n",
    "LOCATION_COORDINATES = ['Pais', 'Estado/Provincia', 'Municipio', 'Latitude', 'Longitude']\n",
    "LOCATION_SAMPLING = 5 # number of locations to check\n",
    "\n",
    "FILTER_FIELDS = ['Municipio','Filo']\n",
    "FILTER_VALUES = [['Nova Friburgo','Niquelândia','Vitoria','Primavera do Leste'],['Mollusca','Magnoliophyta', 'Arthropoda']]\n",
    "\n",
    "key = '09aadb1b1d8840acacfa0fcece0acb13'\n",
    "geocoder = OpenCageGeocode(key)\n",
    "\n",
    "biodiversity = getBiodiversity(url)\n",
    "biodiversity.checkEmpty()\n",
    "biodiversity.getTaxonomy(col_name='Nível Taxonômico')\n",
    "biodiversity.filterFields(FILTER_FIELDS, FILTER_VALUES)\n",
    "biodiversity.checkCoordinates(LOCATION_SAMPLING)"
   ]
  },
  {
   "cell_type": "code",
   "execution_count": 5,
   "metadata": {},
   "outputs": [
    {
     "ename": "NameError",
     "evalue": "name 'special_print' is not defined",
     "output_type": "error",
     "traceback": [
      "\u001b[0;31m---------------------------------------------------------------------------\u001b[0m",
      "\u001b[0;31mNameError\u001b[0m                                 Traceback (most recent call last)",
      "\u001b[0;32m<ipython-input-5-03b9de18a182>\u001b[0m in \u001b[0;36m<module>\u001b[0;34m\u001b[0m\n\u001b[1;32m      3\u001b[0m \u001b[0;31m# Show sample of each output - raw data load\u001b[0m\u001b[0;34m\u001b[0m\u001b[0;34m\u001b[0m\u001b[0;34m\u001b[0m\u001b[0m\n\u001b[1;32m      4\u001b[0m \u001b[0;34m\u001b[0m\u001b[0m\n\u001b[0;32m----> 5\u001b[0;31m \u001b[0mspecial_print\u001b[0m\u001b[0;34m(\u001b[0m\u001b[0;34m\"File URL\"\u001b[0m\u001b[0;34m,\u001b[0m \u001b[0mbiodiversity\u001b[0m\u001b[0;34m.\u001b[0m\u001b[0murl\u001b[0m\u001b[0;34m)\u001b[0m\u001b[0;34m\u001b[0m\u001b[0;34m\u001b[0m\u001b[0m\n\u001b[0m\u001b[1;32m      6\u001b[0m \u001b[0mspecial_print\u001b[0m\u001b[0;34m(\u001b[0m\u001b[0;34m\"Raw file info\"\u001b[0m\u001b[0;34m,\u001b[0m \u001b[0mbiodiversity\u001b[0m\u001b[0;34m.\u001b[0m\u001b[0mdata_info\u001b[0m\u001b[0;34m)\u001b[0m\u001b[0;34m\u001b[0m\u001b[0;34m\u001b[0m\u001b[0m\n\u001b[1;32m      7\u001b[0m \u001b[0mspecial_print\u001b[0m\u001b[0;34m(\u001b[0m\u001b[0;34m\"Raw file sample\"\u001b[0m\u001b[0;34m,\u001b[0m \u001b[0mbiodiversity\u001b[0m\u001b[0;34m.\u001b[0m\u001b[0mdf_data\u001b[0m\u001b[0;34m.\u001b[0m\u001b[0mhead\u001b[0m\u001b[0;34m(\u001b[0m\u001b[0;36m1\u001b[0m\u001b[0;34m)\u001b[0m\u001b[0;34m.\u001b[0m\u001b[0mT\u001b[0m\u001b[0;34m)\u001b[0m\u001b[0;34m\u001b[0m\u001b[0;34m\u001b[0m\u001b[0m\n",
      "\u001b[0;31mNameError\u001b[0m: name 'special_print' is not defined"
     ]
    }
   ],
   "source": [
    "####################################################################################\n",
    "#\n",
    "# Show sample of each output - raw data load\n",
    "\n",
    "special_print(\"File URL\", biodiversity.url)\n",
    "special_print(\"Raw file info\", biodiversity.data_info)\n",
    "special_print(\"Raw file sample\", biodiversity.df_data.head(1).T)\n",
    "special_print(\"Dataframe columns\", biodiversity.df_columns)"
   ]
  },
  {
   "cell_type": "code",
   "execution_count": 17,
   "metadata": {},
   "outputs": [
    {
     "data": {
      "text/markdown": [
       "### Data missing sample (1 = missing):"
      ],
      "text/plain": [
       "<IPython.core.display.Markdown object>"
      ]
     },
     "metadata": {},
     "output_type": "display_data"
    },
    {
     "name": "stdout",
     "output_type": "stream",
     "text": [
      "                                     0  1  2  3  4\n",
      "Nome da instituicao                  1  1  1  1  1\n",
      "Sigla da instituicao                 0  0  0  0  0\n",
      "Nome da base de dados                0  0  0  0  0\n",
      "Sigla da base de dados               0  0  0  0  0\n",
      "Responsavel pelo registro            0  0  0  0  0\n",
      "Numero do registro no portal         0  0  0  0  0\n",
      "Numero do registro na base de dados  0  0  0  0  0\n",
      "Data do registro                     0  0  0  0  0\n",
      "Data do evento                       0  0  0  0  0\n",
      "Data de Carencia                     0  0  0  0  0\n",
      "Nome cientifico                      0  0  0  0  0\n",
      "Nome comum                           1  1  1  1  1\n",
      "Nome cientifico na base de dados     0  0  0  0  0\n",
      "Nivel taxonomico                     0  0  0  0  0\n",
      "Numero de individuos                 0  0  0  0  0\n",
      "Reino                                1  1  1  1  1\n",
      "Filo                                 0  0  0  0  0\n",
      "Classe                               0  0  0  0  0\n",
      "Ordem                                0  0  0  0  0\n",
      "Familia                              0  0  0  0  0\n",
      "Genero                               0  0  0  0  0\n",
      "Especie                              1  1  1  1  1\n",
      "Estado de conservacao                0  0  0  0  0\n",
      "Categoria de Ameaca                  1  1  1  1  1\n",
      "Localidade                           0  0  0  0  0\n",
      "Pais                                 0  0  0  0  0\n",
      "Estado/Provincia                     0  0  0  0  0\n",
      "Municipio                            0  0  0  0  0\n",
      "Status de Sensibilidade              0  0  0  0  0\n",
      "Latitude                             0  0  0  0  0\n",
      "Longitude                            0  0  0  0  0\n",
      "Outras informacoes da localidade     0  0  0  0  0\n",
      "Jurisdicao                           1  1  1  1  1\n",
      "Destino do Material                  0  0  0  0  0\n"
     ]
    },
    {
     "data": {
      "text/markdown": [
       "### Data missing statistics (%):"
      ],
      "text/plain": [
       "<IPython.core.display.Markdown object>"
      ]
     },
     "metadata": {},
     "output_type": "display_data"
    },
    {
     "name": "stdout",
     "output_type": "stream",
     "text": [
      "Nome da instituicao                    100.00000\n",
      "Sigla da instituicao                     0.00000\n",
      "Nome da base de dados                    0.00000\n",
      "Sigla da base de dados                   0.00000\n",
      "Responsavel pelo registro                0.00000\n",
      "Numero do registro no portal             0.00000\n",
      "Numero do registro na base de dados      0.00000\n",
      "Data do registro                         0.00000\n",
      "Data do evento                           0.00000\n",
      "Data de Carencia                         0.00000\n",
      "Nome cientifico                          0.00000\n",
      "Nome comum                             100.00000\n",
      "Nome cientifico na base de dados         0.00000\n",
      "Nivel taxonomico                         0.00000\n",
      "Numero de individuos                     0.00000\n",
      "Reino                                  100.00000\n",
      "Filo                                     0.00000\n",
      "Classe                                   0.00000\n",
      "Ordem                                    0.00000\n",
      "Familia                                  0.00000\n",
      "Genero                                   0.00000\n",
      "Especie                                 83.72093\n",
      "Estado de conservacao                    0.00000\n",
      "Categoria de Ameaca                    100.00000\n",
      "Localidade                               0.00000\n",
      "Pais                                     0.00000\n",
      "Estado/Provincia                         0.00000\n",
      "Municipio                                0.00000\n",
      "Status de Sensibilidade                  0.00000\n",
      "Latitude                                 0.00000\n",
      "Longitude                                0.00000\n",
      "Outras informacoes da localidade         0.00000\n",
      "Jurisdicao                             100.00000\n",
      "Destino do Material                      0.00000\n",
      "dtype: float64\n"
     ]
    }
   ],
   "source": [
    "####################################################################################\n",
    "#\n",
    "# Show sample of each output - data missing analysis\n",
    "\n",
    "special_print(\"Data missing sample (1 = missing)\", biodiversity.df_dataNAN.head(5).T)\n",
    "special_print(\"Data missing statistics (%)\", biodiversity.df_data_missing)"
   ]
  },
  {
   "cell_type": "code",
   "execution_count": 18,
   "metadata": {},
   "outputs": [
    {
     "data": {
      "text/markdown": [
       "### Raw data sample after taxonomic level inclusion:"
      ],
      "text/plain": [
       "<IPython.core.display.Markdown object>"
      ]
     },
     "metadata": {},
     "output_type": "display_data"
    },
    {
     "name": "stdout",
     "output_type": "stream",
     "text": [
      "                                                                                     0\n",
      "Nome da instituicao                                                    Sem Informações\n",
      "Sigla da instituicao                                                            ICMBio\n",
      "Nome da base de dados                Sistema de Autorização e Informação em Biodive...\n",
      "Sigla da base de dados                                                    SISBIO-DIBIO\n",
      "Responsavel pelo registro                          Rose Gomes Monnerat Solon De Pontes\n",
      "Numero do registro no portal                                                    812136\n",
      "Numero do registro na base de dados            Nº Da Autorização/Licença Sisbio: 27130\n",
      "Data do registro                                                            01/11/2015\n",
      "Data do evento                                                 02/11/2015 a 23/11/2015\n",
      "Data de Carencia                                                            06/01/2016\n",
      "Nome cientifico                                                            Helicoverpa\n",
      "Nome comum                                                             Sem Informações\n",
      "Nome cientifico na base de dados                                           Helicoverpa\n",
      "Nivel taxonomico                                                                 genus\n",
      "Numero de individuos                                                             1,000\n",
      "Reino                                                                  Sem Informações\n",
      "Filo                                                                        Arthropoda\n",
      "Classe                                                                         Insecta\n",
      "Ordem                                                                      Lepidoptera\n",
      "Familia                                                                      Noctuidae\n",
      "Genero                                                                     Helicoverpa\n",
      "Especie                                                                Sem Informações\n",
      "Estado de conservacao                                             Espécie não Ameaçada\n",
      "Categoria de Ameaca                                                    Sem Informações\n",
      "Localidade                                         Area De Produção De Algodão E Milho\n",
      "Pais                                                                            Brasil\n",
      "Estado/Provincia                                                                    MT\n",
      "Municipio                                                           Primavera Do Leste\n",
      "Status de Sensibilidade                                           Espécie não Sensível\n",
      "Latitude                                                                      -15.5597\n",
      "Longitude                                                                     -54.2972\n",
      "Outras informacoes da localidade                                 Coordenada aproximada\n",
      "Jurisdicao                                                             Sem Informações\n",
      "Destino do Material                                              Destinado a criadouro\n",
      "Nível Taxonômico                                                                Genero\n"
     ]
    },
    {
     "data": {
      "text/markdown": [
       "### Taxonomic info:"
      ],
      "text/plain": [
       "<IPython.core.display.Markdown object>"
      ]
     },
     "metadata": {},
     "output_type": "display_data"
    },
    {
     "name": "stdout",
     "output_type": "stream",
     "text": [
      "Genero     36\n",
      "Especie     7\n",
      "Name: Nível Taxonômico, dtype: int64\n"
     ]
    },
    {
     "data": {
      "text/markdown": [
       "### Taxonomy sample:"
      ],
      "text/plain": [
       "<IPython.core.display.Markdown object>"
      ]
     },
     "metadata": {},
     "output_type": "display_data"
    },
    {
     "name": "stdout",
     "output_type": "stream",
     "text": [
      "                                0                1                2\n",
      "Filo                   Arthropoda       Arthropoda       Arthropoda\n",
      "Classe                    Insecta          Insecta          Insecta\n",
      "Ordem                 Lepidoptera      Lepidoptera      Lepidoptera\n",
      "Familia                 Noctuidae        Noctuidae        Noctuidae\n",
      "Genero                Helicoverpa      Helicoverpa      Helicoverpa\n",
      "Especie           Sem Informações  Sem Informações  Sem Informações\n",
      "Nível Taxonômico           Genero           Genero           Genero\n"
     ]
    }
   ],
   "source": [
    "####################################################################################\n",
    "#\n",
    "# Show sample of each output - show taxonomic info\n",
    "\n",
    "special_print(\"Raw data sample after taxonomic level inclusion\", biodiversity.df_data.head(1).T)\n",
    "special_print(\"Taxonomic info\", biodiversity.df_taxonomy_info)\n",
    "special_print(\"Taxonomy sample\", biodiversity.df_taxonomy.head(3).T)"
   ]
  },
  {
   "cell_type": "code",
   "execution_count": 27,
   "metadata": {},
   "outputs": [
    {
     "name": "stdout",
     "output_type": "stream",
     "text": [
      "   Nome da instituicao Sigla da instituicao Nome da base de dados  \\\n",
      "0                  NaN                  NaN                   NaN   \n",
      "1                  NaN                  NaN                   NaN   \n",
      "2                  NaN                  NaN                   NaN   \n",
      "3                  NaN                  NaN                   NaN   \n",
      "4                  NaN                  NaN                   NaN   \n",
      "5                  NaN                  NaN                   NaN   \n",
      "6                  NaN                  NaN                   NaN   \n",
      "7                  NaN                  NaN                   NaN   \n",
      "8                  NaN                  NaN                   NaN   \n",
      "9                  NaN                  NaN                   NaN   \n",
      "10                 NaN                  NaN                   NaN   \n",
      "11                 NaN                  NaN                   NaN   \n",
      "12                 NaN                  NaN                   NaN   \n",
      "13                 NaN                  NaN                   NaN   \n",
      "14                 NaN                  NaN                   NaN   \n",
      "15                 NaN                  NaN                   NaN   \n",
      "16                 NaN                  NaN                   NaN   \n",
      "17                 NaN                  NaN                   NaN   \n",
      "18                 NaN                  NaN                   NaN   \n",
      "19                 NaN                  NaN                   NaN   \n",
      "20                 NaN                  NaN                   NaN   \n",
      "21                 NaN                  NaN                   NaN   \n",
      "22                 NaN                  NaN                   NaN   \n",
      "23                 NaN                  NaN                   NaN   \n",
      "24                 NaN                  NaN                   NaN   \n",
      "25                 NaN                  NaN                   NaN   \n",
      "26                 NaN                  NaN                   NaN   \n",
      "27                 NaN                  NaN                   NaN   \n",
      "28                 NaN                  NaN                   NaN   \n",
      "29                 NaN                  NaN                   NaN   \n",
      "30                 NaN                  NaN                   NaN   \n",
      "31                 NaN                  NaN                   NaN   \n",
      "32                 NaN                  NaN                   NaN   \n",
      "33                 NaN                  NaN                   NaN   \n",
      "34                 NaN                  NaN                   NaN   \n",
      "35                 NaN                  NaN                   NaN   \n",
      "36                 NaN                  NaN                   NaN   \n",
      "37                 NaN                  NaN                   NaN   \n",
      "38                 NaN                  NaN                   NaN   \n",
      "39                 NaN                  NaN                   NaN   \n",
      "40                 NaN                  NaN                   NaN   \n",
      "41                 NaN                  NaN                   NaN   \n",
      "42                 NaN                  NaN                   NaN   \n",
      "\n",
      "   Sigla da base de dados Responsavel pelo registro  \\\n",
      "0                     NaN                       NaN   \n",
      "1                     NaN                       NaN   \n",
      "2                     NaN                       NaN   \n",
      "3                     NaN                       NaN   \n",
      "4                     NaN                       NaN   \n",
      "5                     NaN                       NaN   \n",
      "6                     NaN                       NaN   \n",
      "7                     NaN                       NaN   \n",
      "8                     NaN                       NaN   \n",
      "9                     NaN                       NaN   \n",
      "10                    NaN                       NaN   \n",
      "11                    NaN                       NaN   \n",
      "12                    NaN                       NaN   \n",
      "13                    NaN                       NaN   \n",
      "14                    NaN                       NaN   \n",
      "15                    NaN                       NaN   \n",
      "16                    NaN                       NaN   \n",
      "17                    NaN                       NaN   \n",
      "18                    NaN                       NaN   \n",
      "19                    NaN                       NaN   \n",
      "20                    NaN                       NaN   \n",
      "21                    NaN                       NaN   \n",
      "22                    NaN                       NaN   \n",
      "23                    NaN                       NaN   \n",
      "24                    NaN                       NaN   \n",
      "25                    NaN                       NaN   \n",
      "26                    NaN                       NaN   \n",
      "27                    NaN                       NaN   \n",
      "28                    NaN                       NaN   \n",
      "29                    NaN                       NaN   \n",
      "30                    NaN                       NaN   \n",
      "31                    NaN                       NaN   \n",
      "32                    NaN                       NaN   \n",
      "33                    NaN                       NaN   \n",
      "34                    NaN                       NaN   \n",
      "35                    NaN                       NaN   \n",
      "36                    NaN                       NaN   \n",
      "37                    NaN                       NaN   \n",
      "38                    NaN                       NaN   \n",
      "39                    NaN                       NaN   \n",
      "40                    NaN                       NaN   \n",
      "41                    NaN                       NaN   \n",
      "42                    NaN                       NaN   \n",
      "\n",
      "    Numero do registro no portal Numero do registro na base de dados  \\\n",
      "0                            NaN                                 NaN   \n",
      "1                            NaN                                 NaN   \n",
      "2                            NaN                                 NaN   \n",
      "3                            NaN                                 NaN   \n",
      "4                            NaN                                 NaN   \n",
      "5                            NaN                                 NaN   \n",
      "6                            NaN                                 NaN   \n",
      "7                            NaN                                 NaN   \n",
      "8                            NaN                                 NaN   \n",
      "9                            NaN                                 NaN   \n",
      "10                           NaN                                 NaN   \n",
      "11                           NaN                                 NaN   \n",
      "12                           NaN                                 NaN   \n",
      "13                           NaN                                 NaN   \n",
      "14                           NaN                                 NaN   \n",
      "15                           NaN                                 NaN   \n",
      "16                           NaN                                 NaN   \n",
      "17                           NaN                                 NaN   \n",
      "18                           NaN                                 NaN   \n",
      "19                           NaN                                 NaN   \n",
      "20                           NaN                                 NaN   \n",
      "21                           NaN                                 NaN   \n",
      "22                           NaN                                 NaN   \n",
      "23                           NaN                                 NaN   \n",
      "24                           NaN                                 NaN   \n",
      "25                           NaN                                 NaN   \n",
      "26                           NaN                                 NaN   \n",
      "27                           NaN                                 NaN   \n",
      "28                           NaN                                 NaN   \n",
      "29                           NaN                                 NaN   \n",
      "30                           NaN                                 NaN   \n",
      "31                           NaN                                 NaN   \n",
      "32                           NaN                                 NaN   \n",
      "33                           NaN                                 NaN   \n",
      "34                           NaN                                 NaN   \n",
      "35                           NaN                                 NaN   \n",
      "36                           NaN                                 NaN   \n",
      "37                           NaN                                 NaN   \n",
      "38                           NaN                                 NaN   \n",
      "39                           NaN                                 NaN   \n",
      "40                           NaN                                 NaN   \n",
      "41                           NaN                                 NaN   \n",
      "42                           NaN                                 NaN   \n",
      "\n",
      "   Data do registro Data do evento Data de Carencia  ... Municipio  \\\n",
      "0               NaN            NaN              NaN  ...       NaN   \n",
      "1               NaN            NaN              NaN  ...       NaN   \n",
      "2               NaN            NaN              NaN  ...       NaN   \n",
      "3               NaN            NaN              NaN  ...       NaN   \n",
      "4               NaN            NaN              NaN  ...       NaN   \n",
      "5               NaN            NaN              NaN  ...       NaN   \n",
      "6               NaN            NaN              NaN  ...       NaN   \n",
      "7               NaN            NaN              NaN  ...       NaN   \n",
      "8               NaN            NaN              NaN  ...       NaN   \n",
      "9               NaN            NaN              NaN  ...       NaN   \n",
      "10              NaN            NaN              NaN  ...       NaN   \n",
      "11              NaN            NaN              NaN  ...       NaN   \n",
      "12              NaN            NaN              NaN  ...       NaN   \n",
      "13              NaN            NaN              NaN  ...       NaN   \n",
      "14              NaN            NaN              NaN  ...       NaN   \n",
      "15              NaN            NaN              NaN  ...       NaN   \n",
      "16              NaN            NaN              NaN  ...       NaN   \n",
      "17              NaN            NaN              NaN  ...       NaN   \n",
      "18              NaN            NaN              NaN  ...       NaN   \n",
      "19              NaN            NaN              NaN  ...       NaN   \n",
      "20              NaN            NaN              NaN  ...       NaN   \n",
      "21              NaN            NaN              NaN  ...       NaN   \n",
      "22              NaN            NaN              NaN  ...       NaN   \n",
      "23              NaN            NaN              NaN  ...       NaN   \n",
      "24              NaN            NaN              NaN  ...       NaN   \n",
      "25              NaN            NaN              NaN  ...       NaN   \n",
      "26              NaN            NaN              NaN  ...       NaN   \n",
      "27              NaN            NaN              NaN  ...       NaN   \n",
      "28              NaN            NaN              NaN  ...       NaN   \n",
      "29              NaN            NaN              NaN  ...       NaN   \n",
      "30              NaN            NaN              NaN  ...       NaN   \n",
      "31              NaN            NaN              NaN  ...       NaN   \n",
      "32              NaN            NaN              NaN  ...       NaN   \n",
      "33              NaN            NaN              NaN  ...       NaN   \n",
      "34              NaN            NaN              NaN  ...       NaN   \n",
      "35              NaN            NaN              NaN  ...       NaN   \n",
      "36              NaN            NaN              NaN  ...       NaN   \n",
      "37              NaN            NaN              NaN  ...       NaN   \n",
      "38              NaN            NaN              NaN  ...       NaN   \n",
      "39              NaN            NaN              NaN  ...       NaN   \n",
      "40              NaN            NaN              NaN  ...       NaN   \n",
      "41              NaN            NaN              NaN  ...       NaN   \n",
      "42              NaN            NaN              NaN  ...       NaN   \n",
      "\n",
      "   Status de Sensibilidade Latitude Longitude  \\\n",
      "0                      NaN      NaN       NaN   \n",
      "1                      NaN      NaN       NaN   \n",
      "2                      NaN      NaN       NaN   \n",
      "3                      NaN      NaN       NaN   \n",
      "4                      NaN      NaN       NaN   \n",
      "5                      NaN      NaN       NaN   \n",
      "6                      NaN      NaN       NaN   \n",
      "7                      NaN      NaN       NaN   \n",
      "8                      NaN      NaN       NaN   \n",
      "9                      NaN      NaN       NaN   \n",
      "10                     NaN      NaN       NaN   \n",
      "11                     NaN      NaN       NaN   \n",
      "12                     NaN      NaN       NaN   \n",
      "13                     NaN      NaN       NaN   \n",
      "14                     NaN      NaN       NaN   \n",
      "15                     NaN      NaN       NaN   \n",
      "16                     NaN      NaN       NaN   \n",
      "17                     NaN      NaN       NaN   \n",
      "18                     NaN      NaN       NaN   \n",
      "19                     NaN      NaN       NaN   \n",
      "20                     NaN      NaN       NaN   \n",
      "21                     NaN      NaN       NaN   \n",
      "22                     NaN      NaN       NaN   \n",
      "23                     NaN      NaN       NaN   \n",
      "24                     NaN      NaN       NaN   \n",
      "25                     NaN      NaN       NaN   \n",
      "26                     NaN      NaN       NaN   \n",
      "27                     NaN      NaN       NaN   \n",
      "28                     NaN      NaN       NaN   \n",
      "29                     NaN      NaN       NaN   \n",
      "30                     NaN      NaN       NaN   \n",
      "31                     NaN      NaN       NaN   \n",
      "32                     NaN      NaN       NaN   \n",
      "33                     NaN      NaN       NaN   \n",
      "34                     NaN      NaN       NaN   \n",
      "35                     NaN      NaN       NaN   \n",
      "36                     NaN      NaN       NaN   \n",
      "37                     NaN      NaN       NaN   \n",
      "38                     NaN      NaN       NaN   \n",
      "39                     NaN      NaN       NaN   \n",
      "40                     NaN      NaN       NaN   \n",
      "41                     NaN      NaN       NaN   \n",
      "42                     NaN      NaN       NaN   \n",
      "\n",
      "   Outras informacoes da localidade Jurisdicao Destino do Material  \\\n",
      "0                               NaN        NaN                 NaN   \n",
      "1                               NaN        NaN                 NaN   \n",
      "2                               NaN        NaN                 NaN   \n",
      "3                               NaN        NaN                 NaN   \n",
      "4                               NaN        NaN                 NaN   \n",
      "5                               NaN        NaN                 NaN   \n",
      "6                               NaN        NaN                 NaN   \n",
      "7                               NaN        NaN                 NaN   \n",
      "8                               NaN        NaN                 NaN   \n",
      "9                               NaN        NaN                 NaN   \n",
      "10                              NaN        NaN                 NaN   \n",
      "11                              NaN        NaN                 NaN   \n",
      "12                              NaN        NaN                 NaN   \n",
      "13                              NaN        NaN                 NaN   \n",
      "14                              NaN        NaN                 NaN   \n",
      "15                              NaN        NaN                 NaN   \n",
      "16                              NaN        NaN                 NaN   \n",
      "17                              NaN        NaN                 NaN   \n",
      "18                              NaN        NaN                 NaN   \n",
      "19                              NaN        NaN                 NaN   \n",
      "20                              NaN        NaN                 NaN   \n",
      "21                              NaN        NaN                 NaN   \n",
      "22                              NaN        NaN                 NaN   \n",
      "23                              NaN        NaN                 NaN   \n",
      "24                              NaN        NaN                 NaN   \n",
      "25                              NaN        NaN                 NaN   \n",
      "26                              NaN        NaN                 NaN   \n",
      "27                              NaN        NaN                 NaN   \n",
      "28                              NaN        NaN                 NaN   \n",
      "29                              NaN        NaN                 NaN   \n",
      "30                              NaN        NaN                 NaN   \n",
      "31                              NaN        NaN                 NaN   \n",
      "32                              NaN        NaN                 NaN   \n",
      "33                              NaN        NaN                 NaN   \n",
      "34                              NaN        NaN                 NaN   \n",
      "35                              NaN        NaN                 NaN   \n",
      "36                              NaN        NaN                 NaN   \n",
      "37                              NaN        NaN                 NaN   \n",
      "38                              NaN        NaN                 NaN   \n",
      "39                              NaN        NaN                 NaN   \n",
      "40                              NaN        NaN                 NaN   \n",
      "41                              NaN        NaN                 NaN   \n",
      "42                              NaN        NaN                 NaN   \n",
      "\n",
      "   Nível Taxonômico AdjustedLatitude AdjustedLongitude  \n",
      "0               NaN       -15.559722        -54.297222  \n",
      "1               NaN       -29.144917        -53.207278  \n",
      "2               NaN       -27.389278        -53.375356  \n",
      "3               NaN       -27.941306        -53.297889  \n",
      "4               NaN       -29.766056        -54.707692  \n",
      "5               NaN       -15.732614        -47.905708  \n",
      "6               NaN       -16.493333        -49.287500  \n",
      "7               NaN       -23.195556        -51.176389  \n",
      "8               NaN       -23.195556        -51.176389  \n",
      "9               NaN       -28.375969        -51.669028  \n",
      "10              NaN       -27.687828        -54.091706  \n",
      "11              NaN       -28.590139        -54.999206  \n",
      "12              NaN       -29.051278        -53.113000  \n",
      "13              NaN       -27.910139        -54.492858  \n",
      "14              NaN       -29.713469        -53.733692  \n",
      "15              NaN       -13.528333        -55.750556  \n",
      "16              NaN       -17.022222        -54.750556  \n",
      "17              NaN       -13.493889        -59.324167  \n",
      "18              NaN       -11.725833        -45.927500  \n",
      "19              NaN       -13.533611        -58.836111  \n",
      "20              NaN       -15.394722        -55.183889  \n",
      "21              NaN       -12.183889        -45.974722  \n",
      "22              NaN       -13.825000        -46.095556  \n",
      "23              NaN       -13.243056        -58.741667  \n",
      "24              NaN       -15.600278        -55.217222  \n",
      "25              NaN       -15.193889        -54.779167  \n",
      "26              NaN       -16.712219        -53.902219  \n",
      "27              NaN       -21.742778        -47.125278  \n",
      "28              NaN       -18.764444        -52.643611  \n",
      "29              NaN       -18.618056        -52.678333  \n",
      "30              NaN       -21.896111        -47.351944  \n",
      "31              NaN       -16.834167        -54.846111  \n",
      "32              NaN       -22.489444        -47.298611  \n",
      "33              NaN       -15.411389        -54.541944  \n",
      "34              NaN       -13.542500        -58.814167  \n",
      "35              NaN       -14.153611        -57.452222  \n",
      "36              NaN       -29.115278        -51.382306  \n",
      "37              NaN       -29.078889        -51.450494  \n",
      "38              NaN       -29.078889        -51.450494  \n",
      "39              NaN       -29.173333        -51.562361  \n",
      "40              NaN       -18.615014        -46.516114  \n",
      "41              NaN       -17.476111        -51.173889  \n",
      "42              NaN       -17.881389        -51.714167  \n",
      "\n",
      "[43 rows x 37 columns]\n"
     ]
    },
    {
     "data": {
      "text/markdown": [
       "### Filtered data info:"
      ],
      "text/plain": [
       "<IPython.core.display.Markdown object>"
      ]
     },
     "metadata": {},
     "output_type": "display_data"
    },
    {
     "name": "stdout",
     "output_type": "stream",
     "text": [
      "File shape: 0 rows x 35 columns\n"
     ]
    },
    {
     "data": {
      "text/markdown": [
       "### Filtered data sample:"
      ],
      "text/plain": [
       "<IPython.core.display.Markdown object>"
      ]
     },
     "metadata": {},
     "output_type": "display_data"
    },
    {
     "name": "stdout",
     "output_type": "stream",
     "text": [
      "                                           0\n",
      "Nome da instituicao                      NaN\n",
      "Sigla da instituicao                     NaN\n",
      "Nome da base de dados                    NaN\n",
      "Sigla da base de dados                   NaN\n",
      "Responsavel pelo registro                NaN\n",
      "Numero do registro no portal             NaN\n",
      "Numero do registro na base de dados      NaN\n",
      "Data do registro                         NaN\n",
      "Data do evento                           NaN\n",
      "Data de Carencia                         NaN\n",
      "Nome cientifico                          NaN\n",
      "Nome comum                               NaN\n",
      "Nome cientifico na base de dados         NaN\n",
      "Nivel taxonomico                         NaN\n",
      "Numero de individuos                     NaN\n",
      "Reino                                    NaN\n",
      "Filo                                     NaN\n",
      "Classe                                   NaN\n",
      "Ordem                                    NaN\n",
      "Familia                                  NaN\n",
      "Genero                                   NaN\n",
      "Especie                                  NaN\n",
      "Estado de conservacao                    NaN\n",
      "Categoria de Ameaca                      NaN\n",
      "Localidade                               NaN\n",
      "Pais                                     NaN\n",
      "Estado/Provincia                         NaN\n",
      "Municipio                                NaN\n",
      "Status de Sensibilidade                  NaN\n",
      "Latitude                                 NaN\n",
      "Longitude                                NaN\n",
      "Outras informacoes da localidade         NaN\n",
      "Jurisdicao                               NaN\n",
      "Destino do Material                      NaN\n",
      "Nível Taxonômico                         NaN\n",
      "AdjustedLatitude                    -15.5597\n",
      "AdjustedLongitude                   -54.2972\n"
     ]
    }
   ],
   "source": [
    "####################################################################################\n",
    "#\n",
    "# Show sample of each output - filtered data\n",
    "\n",
    "special_print(\"Filtered data info\", biodiversity.filtered_info)\n",
    "special_print(\"Filtered data sample\", biodiversity.df_filtered.head(1).T)"
   ]
  },
  {
   "cell_type": "code",
   "execution_count": 20,
   "metadata": {},
   "outputs": [
    {
     "data": {
      "text/markdown": [
       "### Applied filters:"
      ],
      "text/plain": [
       "<IPython.core.display.Markdown object>"
      ]
     },
     "metadata": {},
     "output_type": "display_data"
    },
    {
     "name": "stdout",
     "output_type": "stream",
     "text": [
      "['Municipio', 'Filo']\n"
     ]
    },
    {
     "data": {
      "text/markdown": [
       "### Applied filter values:"
      ],
      "text/plain": [
       "<IPython.core.display.Markdown object>"
      ]
     },
     "metadata": {},
     "output_type": "display_data"
    },
    {
     "name": "stdout",
     "output_type": "stream",
     "text": [
      "[['Nova Friburgo', 'Niquelândia', 'Vitoria', 'Primavera do Leste'], ['Mollusca', 'Magnoliophyta', 'Arthropoda']]\n"
     ]
    },
    {
     "data": {
      "text/markdown": [
       "### Sample of locations to check:"
      ],
      "text/plain": [
       "<IPython.core.display.Markdown object>"
      ]
     },
     "metadata": {},
     "output_type": "display_data"
    },
    {
     "name": "stdout",
     "output_type": "stream",
     "text": [
      "                                                                               18\n",
      "Nome da instituicao                                                           NaN\n",
      "Sigla da instituicao                                                          NaN\n",
      "Nome da base de dados                                                         NaN\n",
      "Sigla da base de dados                                                        NaN\n",
      "Responsavel pelo registro                                                     NaN\n",
      "Numero do registro no portal                                                  NaN\n",
      "Numero do registro na base de dados                                           NaN\n",
      "Data do registro                                                              NaN\n",
      "Data do evento                                                                NaN\n",
      "Data de Carencia                                                              NaN\n",
      "Nome cientifico                                                               NaN\n",
      "Nome comum                                                                    NaN\n",
      "Nome cientifico na base de dados                                              NaN\n",
      "Nivel taxonomico                                                              NaN\n",
      "Numero de individuos                                                          NaN\n",
      "Reino                                                                         NaN\n",
      "Filo                                                                          NaN\n",
      "Classe                                                                        NaN\n",
      "Ordem                                                                         NaN\n",
      "Familia                                                                       NaN\n",
      "Genero                                                                        NaN\n",
      "Especie                                                                       NaN\n",
      "Estado de conservacao                                                         NaN\n",
      "Categoria de Ameaca                                                           NaN\n",
      "Localidade                                                                    NaN\n",
      "Pais                                                                          NaN\n",
      "Estado/Provincia                                                              NaN\n",
      "Municipio                                                                     NaN\n",
      "Status de Sensibilidade                                                       NaN\n",
      "Latitude                                                                      NaN\n",
      "Longitude                                                                     NaN\n",
      "Outras informacoes da localidade                                              NaN\n",
      "Jurisdicao                                                                    NaN\n",
      "Destino do Material                                                           NaN\n",
      "Nível Taxonômico                                                              NaN\n",
      "AdjustedLatitude                                                         -11.7258\n",
      "AdjustedLongitude                                                        -45.9275\n",
      "ReversedAddress                      Barreiras, Microrregião de Barreiras, Brasil\n",
      "Confidence                                                                      3\n"
     ]
    }
   ],
   "source": [
    "####################################################################################\n",
    "#\n",
    "# Show sample of each output - show location info\n",
    "\n",
    "special_print(\"Applied filters\", FILTER_FIELDS)\n",
    "special_print(\"Applied filter values\", FILTER_VALUES)\n",
    "\n",
    "special_print(\"Sample of locations to check\", biodiversity.df_location_sample.head(1).T)"
   ]
  },
  {
   "cell_type": "code",
   "execution_count": 21,
   "metadata": {
    "scrolled": true
   },
   "outputs": [
    {
     "data": {
      "text/markdown": [
       "### Observations (click to see more details)"
      ],
      "text/plain": [
       "<IPython.core.display.Markdown object>"
      ]
     },
     "metadata": {},
     "output_type": "display_data"
    }
   ],
   "source": [
    "####################################################################################\n",
    "#\n",
    "# Show sample of each output - show map with reported observations\n",
    "\n",
    "display(Markdown(\"### Observations (click to see more details)\"))"
   ]
  },
  {
   "cell_type": "code",
   "execution_count": 1,
   "metadata": {
    "scrolled": false
   },
   "outputs": [
    {
     "ename": "NameError",
     "evalue": "name 'biodiversity' is not defined",
     "output_type": "error",
     "traceback": [
      "\u001b[0;31m---------------------------------------------------------------------------\u001b[0m",
      "\u001b[0;31mNameError\u001b[0m                                 Traceback (most recent call last)",
      "\u001b[0;32m<ipython-input-1-c02f2d65d2f4>\u001b[0m in \u001b[0;36m<module>\u001b[0;34m\u001b[0m\n\u001b[0;32m----> 1\u001b[0;31m \u001b[0mbiodiversity\u001b[0m\u001b[0;34m.\u001b[0m\u001b[0mobservations_map\u001b[0m\u001b[0;34m\u001b[0m\u001b[0;34m\u001b[0m\u001b[0m\n\u001b[0m",
      "\u001b[0;31mNameError\u001b[0m: name 'biodiversity' is not defined"
     ]
    }
   ],
   "source": [
    "biodiversity.observations_map"
   ]
  },
  {
   "cell_type": "code",
   "execution_count": null,
   "metadata": {},
   "outputs": [],
   "source": []
  }
 ],
 "metadata": {
  "hide_input": false,
  "kernelspec": {
   "display_name": "Python 3",
   "language": "python",
   "name": "python3"
  },
  "language_info": {
   "codemirror_mode": {
    "name": "ipython",
    "version": 3
   },
   "file_extension": ".py",
   "mimetype": "text/x-python",
   "name": "python",
   "nbconvert_exporter": "python",
   "pygments_lexer": "ipython3",
   "version": "3.7.3"
  }
 },
 "nbformat": 4,
 "nbformat_minor": 2
}
